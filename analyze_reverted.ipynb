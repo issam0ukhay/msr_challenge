{
 "cells": [
  {
   "cell_type": "code",
   "execution_count": 1,
   "id": "a43a3953",
   "metadata": {},
   "outputs": [],
   "source": [
    "import pandas as pd"
   ]
  },
  {
   "cell_type": "code",
   "execution_count": 5,
   "id": "fbcf46c0",
   "metadata": {},
   "outputs": [],
   "source": [
    "all_pr = pd.read_csv(\"pr_revert_results.csv\")"
   ]
  },
  {
   "cell_type": "code",
   "execution_count": 6,
   "id": "efbc5a32",
   "metadata": {},
   "outputs": [],
   "source": [
    "all_reverted = all_pr[all_pr[\"reverted\"] == 1]"
   ]
  },
  {
   "cell_type": "code",
   "execution_count": 7,
   "id": "6eeb009e",
   "metadata": {},
   "outputs": [
    {
     "data": {
      "text/html": [
       "<div>\n",
       "<style scoped>\n",
       "    .dataframe tbody tr th:only-of-type {\n",
       "        vertical-align: middle;\n",
       "    }\n",
       "\n",
       "    .dataframe tbody tr th {\n",
       "        vertical-align: top;\n",
       "    }\n",
       "\n",
       "    .dataframe thead th {\n",
       "        text-align: right;\n",
       "    }\n",
       "</style>\n",
       "<table border=\"1\" class=\"dataframe\">\n",
       "  <thead>\n",
       "    <tr style=\"text-align: right;\">\n",
       "      <th></th>\n",
       "      <th>id</th>\n",
       "      <th>number</th>\n",
       "      <th>repo</th>\n",
       "      <th>html_url</th>\n",
       "      <th>reverted</th>\n",
       "    </tr>\n",
       "  </thead>\n",
       "  <tbody>\n",
       "    <tr>\n",
       "      <th>85</th>\n",
       "      <td>3221137118</td>\n",
       "      <td>10</td>\n",
       "      <td>07JP27/DeepResearch-dotnet</td>\n",
       "      <td>https://github.com/07JP27/DeepResearch-dotnet/...</td>\n",
       "      <td>1</td>\n",
       "    </tr>\n",
       "    <tr>\n",
       "      <th>88</th>\n",
       "      <td>3238717437</td>\n",
       "      <td>26</td>\n",
       "      <td>07JP27/DeepResearch-dotnet</td>\n",
       "      <td>https://github.com/07JP27/DeepResearch-dotnet/...</td>\n",
       "      <td>1</td>\n",
       "    </tr>\n",
       "    <tr>\n",
       "      <th>92</th>\n",
       "      <td>3075500998</td>\n",
       "      <td>58</td>\n",
       "      <td>07JP27/DurableMultiAgentTemplate</td>\n",
       "      <td>https://github.com/07JP27/DurableMultiAgentTem...</td>\n",
       "      <td>1</td>\n",
       "    </tr>\n",
       "    <tr>\n",
       "      <th>255</th>\n",
       "      <td>3154983105</td>\n",
       "      <td>9</td>\n",
       "      <td>0nalist/SigmaSim</td>\n",
       "      <td>https://github.com/0nalist/SigmaSim/pull/9</td>\n",
       "      <td>1</td>\n",
       "    </tr>\n",
       "    <tr>\n",
       "      <th>256</th>\n",
       "      <td>3277963364</td>\n",
       "      <td>16</td>\n",
       "      <td>0nalist/SigmaSim</td>\n",
       "      <td>https://github.com/0nalist/SigmaSim/pull/16</td>\n",
       "      <td>1</td>\n",
       "    </tr>\n",
       "    <tr>\n",
       "      <th>...</th>\n",
       "      <td>...</td>\n",
       "      <td>...</td>\n",
       "      <td>...</td>\n",
       "      <td>...</td>\n",
       "      <td>...</td>\n",
       "    </tr>\n",
       "    <tr>\n",
       "      <th>19477</th>\n",
       "      <td>3111629736</td>\n",
       "      <td>95</td>\n",
       "      <td>AndyJBen/finance-dashboard</td>\n",
       "      <td>https://github.com/AndyJBen/finance-dashboard/...</td>\n",
       "      <td>1</td>\n",
       "    </tr>\n",
       "    <tr>\n",
       "      <th>19656</th>\n",
       "      <td>3127107446</td>\n",
       "      <td>1</td>\n",
       "      <td>Angry-Pigeon/Portfolio-2025</td>\n",
       "      <td>https://github.com/Angry-Pigeon/Portfolio-2025...</td>\n",
       "      <td>1</td>\n",
       "    </tr>\n",
       "    <tr>\n",
       "      <th>19671</th>\n",
       "      <td>3225612277</td>\n",
       "      <td>1</td>\n",
       "      <td>Anhade/blender</td>\n",
       "      <td>https://github.com/Anhade/blender/pull/1</td>\n",
       "      <td>1</td>\n",
       "    </tr>\n",
       "    <tr>\n",
       "      <th>20017</th>\n",
       "      <td>3124273215</td>\n",
       "      <td>6</td>\n",
       "      <td>AntalJozsefminiszterur88/FOTOapparatus</td>\n",
       "      <td>https://github.com/AntalJozsefminiszterur88/FO...</td>\n",
       "      <td>1</td>\n",
       "    </tr>\n",
       "    <tr>\n",
       "      <th>20059</th>\n",
       "      <td>3149689796</td>\n",
       "      <td>85</td>\n",
       "      <td>AntalJozsefminiszterur88/LEDapp</td>\n",
       "      <td>https://github.com/AntalJozsefminiszterur88/LE...</td>\n",
       "      <td>1</td>\n",
       "    </tr>\n",
       "  </tbody>\n",
       "</table>\n",
       "<p>212 rows × 5 columns</p>\n",
       "</div>"
      ],
      "text/plain": [
       "               id  number                                    repo  \\\n",
       "85     3221137118      10              07JP27/DeepResearch-dotnet   \n",
       "88     3238717437      26              07JP27/DeepResearch-dotnet   \n",
       "92     3075500998      58        07JP27/DurableMultiAgentTemplate   \n",
       "255    3154983105       9                        0nalist/SigmaSim   \n",
       "256    3277963364      16                        0nalist/SigmaSim   \n",
       "...           ...     ...                                     ...   \n",
       "19477  3111629736      95              AndyJBen/finance-dashboard   \n",
       "19656  3127107446       1             Angry-Pigeon/Portfolio-2025   \n",
       "19671  3225612277       1                          Anhade/blender   \n",
       "20017  3124273215       6  AntalJozsefminiszterur88/FOTOapparatus   \n",
       "20059  3149689796      85         AntalJozsefminiszterur88/LEDapp   \n",
       "\n",
       "                                                html_url  reverted  \n",
       "85     https://github.com/07JP27/DeepResearch-dotnet/...         1  \n",
       "88     https://github.com/07JP27/DeepResearch-dotnet/...         1  \n",
       "92     https://github.com/07JP27/DurableMultiAgentTem...         1  \n",
       "255           https://github.com/0nalist/SigmaSim/pull/9         1  \n",
       "256          https://github.com/0nalist/SigmaSim/pull/16         1  \n",
       "...                                                  ...       ...  \n",
       "19477  https://github.com/AndyJBen/finance-dashboard/...         1  \n",
       "19656  https://github.com/Angry-Pigeon/Portfolio-2025...         1  \n",
       "19671           https://github.com/Anhade/blender/pull/1         1  \n",
       "20017  https://github.com/AntalJozsefminiszterur88/FO...         1  \n",
       "20059  https://github.com/AntalJozsefminiszterur88/LE...         1  \n",
       "\n",
       "[212 rows x 5 columns]"
      ]
     },
     "execution_count": 7,
     "metadata": {},
     "output_type": "execute_result"
    }
   ],
   "source": [
    "all_reverted"
   ]
  },
  {
   "cell_type": "code",
   "execution_count": 8,
   "id": "e15ce8c6",
   "metadata": {},
   "outputs": [],
   "source": [
    "all_reverted.to_csv(\"all_reverted.csv\",index=False)"
   ]
  },
  {
   "cell_type": "code",
   "execution_count": null,
   "id": "f3b812cf",
   "metadata": {},
   "outputs": [
    {
     "name": "stderr",
     "output_type": "stream",
     "text": [
      "c:\\Users\\AV00500\\AppData\\Local\\anaconda3\\envs\\msr\\Lib\\site-packages\\tqdm\\auto.py:21: TqdmWarning: IProgress not found. Please update jupyter and ipywidgets. See https://ipywidgets.readthedocs.io/en/stable/user_install.html\n",
      "  from .autonotebook import tqdm as notebook_tqdm\n"
     ]
    }
   ],
   "source": [
    "from huggingface_hub import login\n",
    "login(\"\")"
   ]
  },
  {
   "cell_type": "code",
   "execution_count": null,
   "id": "9041b5b9",
   "metadata": {},
   "outputs": [],
   "source": [
    "all_pr_df = pd.read_parquet(\"hf://datasets/hao-li/AIDev/all_pull_request.parquet\")"
   ]
  },
  {
   "cell_type": "code",
   "execution_count": null,
   "id": "7898ddd2",
   "metadata": {},
   "outputs": [],
   "source": []
  }
 ],
 "metadata": {
  "kernelspec": {
   "display_name": "msr",
   "language": "python",
   "name": "python3"
  },
  "language_info": {
   "codemirror_mode": {
    "name": "ipython",
    "version": 3
   },
   "file_extension": ".py",
   "mimetype": "text/x-python",
   "name": "python",
   "nbconvert_exporter": "python",
   "pygments_lexer": "ipython3",
   "version": "3.13.9"
  }
 },
 "nbformat": 4,
 "nbformat_minor": 5
}
